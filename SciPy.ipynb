{
 "cells": [
  {
   "cell_type": "code",
   "execution_count": 1,
   "id": "8348e70e-dd4e-4a16-8891-9a70fed95795",
   "metadata": {},
   "outputs": [
    {
     "data": {
      "text/plain": [
       "'\\nscipy.linalg, scipy.special, scipy.integrate, scipy.optimize, \\nscipy.fftpack, scipy.signal, scipy.stats, scipy.ndimage, scipy.io\\n\\n'"
      ]
     },
     "execution_count": 1,
     "metadata": {},
     "output_type": "execute_result"
    }
   ],
   "source": [
    "\"\"\"\n",
    "scipy.linalg, scipy.special, scipy.integrate, scipy.optimize, \n",
    "scipy.fftpack, scipy.signal, scipy.stats, scipy.ndimage, scipy.io\n",
    "\n",
    "\"\"\""
   ]
  },
  {
   "cell_type": "code",
   "execution_count": 2,
   "id": "88ec4cf8-a646-4a5e-bef8-f4c3c0feb9b4",
   "metadata": {},
   "outputs": [],
   "source": [
    "import numpy as np\n",
    "from scipy import linalg"
   ]
  },
  {
   "cell_type": "code",
   "execution_count": 5,
   "id": "ece94c03-3a2e-4fff-95be-6fb133d2c4db",
   "metadata": {},
   "outputs": [
    {
     "name": "stdout",
     "output_type": "stream",
     "text": [
      "[[1 2]\n",
      " [3 4]]\n",
      "[[-2.   1. ]\n",
      " [ 1.5 -0.5]]\n"
     ]
    }
   ],
   "source": [
    "A = np.array([[1,2], [3,4]])\n",
    "print(A)\n",
    "\n",
    "B= linalg.inv(A)\n",
    "print(B)"
   ]
  },
  {
   "cell_type": "code",
   "execution_count": 6,
   "id": "4e4c2b20-93c0-47be-a629-a08e076e9e1b",
   "metadata": {},
   "outputs": [
    {
     "name": "stdout",
     "output_type": "stream",
     "text": [
      "[[ 5  7  9]\n",
      " [ 6  8 10]]\n"
     ]
    }
   ],
   "source": [
    "b = np.array([[5,6], [7,8], [9,10]])\n",
    "print (b.T)"
   ]
  },
  {
   "cell_type": "code",
   "execution_count": 8,
   "id": "8bb54769-4333-4b85-98b3-9bf3525f7bc2",
   "metadata": {},
   "outputs": [
    {
     "name": "stdout",
     "output_type": "stream",
     "text": [
      "[[-9.28]\n",
      " [ 5.16]\n",
      " [ 0.76]]\n",
      "[[-9.28]\n",
      " [ 5.16]\n",
      " [ 0.76]]\n"
     ]
    }
   ],
   "source": [
    "#Denklem takımlarının çözümü\n",
    "A = np.array([[1,3,5], [2,5,1],[2,3,8]])\n",
    "b = np.array([[10], [8], [3]])\n",
    "\n",
    "print(linalg.inv(A).dot(b))\n",
    "print(np.linalg.solve(A,b))\n",
    "              \n",
    "\n",
    "              "
   ]
  },
  {
   "cell_type": "code",
   "execution_count": 9,
   "id": "ac817ea6-19f4-4476-a9b1-7426e5162fdc",
   "metadata": {},
   "outputs": [
    {
     "data": {
      "text/plain": [
       "array([[1, 2, 2],\n",
       "       [3, 5, 3],\n",
       "       [5, 1, 8]])"
      ]
     },
     "execution_count": 9,
     "metadata": {},
     "output_type": "execute_result"
    }
   ],
   "source": [
    "A.T"
   ]
  },
  {
   "cell_type": "code",
   "execution_count": 10,
   "id": "6d0e49ae-7909-4a5b-ba9e-5bc3f42e1ef6",
   "metadata": {},
   "outputs": [
    {
     "data": {
      "text/plain": [
       "array([[1, 3, 5],\n",
       "       [2, 5, 1],\n",
       "       [2, 3, 8]])"
      ]
     },
     "execution_count": 10,
     "metadata": {},
     "output_type": "execute_result"
    }
   ],
   "source": [
    "A"
   ]
  },
  {
   "cell_type": "code",
   "execution_count": 11,
   "id": "4609cbf8-b14a-4707-9852-8a912ffaea77",
   "metadata": {},
   "outputs": [
    {
     "data": {
      "text/plain": [
       "9"
      ]
     },
     "execution_count": 11,
     "metadata": {},
     "output_type": "execute_result"
    }
   ],
   "source": [
    "A.size"
   ]
  },
  {
   "cell_type": "code",
   "execution_count": 12,
   "id": "725102a6-49e6-49ec-813b-474ed3045990",
   "metadata": {},
   "outputs": [],
   "source": [
    "#İntegral"
   ]
  },
  {
   "cell_type": "code",
   "execution_count": 15,
   "id": "9dcb9f47-95c5-4fe9-a396-58b51b50172b",
   "metadata": {},
   "outputs": [
    {
     "name": "stdout",
     "output_type": "stream",
     "text": [
      "(72.00000000000001, 7.993605777301129e-13)\n"
     ]
    }
   ],
   "source": [
    "from scipy import integrate\n",
    "x2 = lambda x : x**2\n",
    "I = integrate.quad(x2,  0, 6)\n",
    "print(I)"
   ]
  },
  {
   "cell_type": "code",
   "execution_count": 16,
   "id": "e2974857-e471-483b-aaf8-56dd50c6dd53",
   "metadata": {},
   "outputs": [],
   "source": [
    "#türev"
   ]
  },
  {
   "cell_type": "code",
   "execution_count": 18,
   "id": "5c1d5089-57de-49d4-9ec7-4db5adf706f3",
   "metadata": {},
   "outputs": [
    {
     "name": "stdout",
     "output_type": "stream",
     "text": [
      "4.999999999921734\n"
     ]
    }
   ],
   "source": [
    "from scipy.misc import derivative\n",
    "def f(x):\n",
    "    return x**3 + x**2\n",
    "D = derivative(f, 1.0, dx = 1e-6)\n",
    "print(D)"
   ]
  },
  {
   "cell_type": "code",
   "execution_count": null,
   "id": "2762f449-1099-4839-bf9c-d83f66c6a936",
   "metadata": {},
   "outputs": [],
   "source": []
  }
 ],
 "metadata": {
  "kernelspec": {
   "display_name": "Python 3 (ipykernel)",
   "language": "python",
   "name": "python3"
  },
  "language_info": {
   "codemirror_mode": {
    "name": "ipython",
    "version": 3
   },
   "file_extension": ".py",
   "mimetype": "text/x-python",
   "name": "python",
   "nbconvert_exporter": "python",
   "pygments_lexer": "ipython3",
   "version": "3.9.12"
  }
 },
 "nbformat": 4,
 "nbformat_minor": 5
}
