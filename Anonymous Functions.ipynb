{
 "cells": [
  {
   "cell_type": "code",
   "execution_count": 1,
   "id": "df9bbd35-6237-45e3-ace0-4530c98a48f9",
   "metadata": {},
   "outputs": [],
   "source": [
    "#Anonymous Functions, Lambda num1 num2 : num1 + num2"
   ]
  },
  {
   "cell_type": "code",
   "execution_count": 3,
   "id": "63f2f0f0-ebc7-484f-bdef-f0b4a15bb1f6",
   "metadata": {},
   "outputs": [
    {
     "name": "stdout",
     "output_type": "stream",
     "text": [
      "15\n",
      "6\n"
     ]
    }
   ],
   "source": [
    "addition = lambda a : a +10 \n",
    "product = lambda x, y : x*y\n",
    "print(addition(5))\n",
    "print(product(3,2))"
   ]
  },
  {
   "cell_type": "code",
   "execution_count": 4,
   "id": "b60c2088-1385-48ad-87ea-8ccfedadd5e2",
   "metadata": {},
   "outputs": [
    {
     "data": {
      "text/plain": [
       "(30, 100, 280)"
      ]
     },
     "execution_count": 4,
     "metadata": {},
     "output_type": "execute_result"
    }
   ],
   "source": [
    "res = (lambda*args : sum(args))\n",
    "res(10, 20), res(10,20,30,40), res(10,20,30,40,50,60,70)"
   ]
  },
  {
   "cell_type": "code",
   "execution_count": 11,
   "id": "7e2532c5-2557-4886-bcff-0dcaaf076510",
   "metadata": {},
   "outputs": [
    {
     "data": {
      "text/plain": [
       "(60, 100)"
      ]
     },
     "execution_count": 11,
     "metadata": {},
     "output_type": "execute_result"
    }
   ],
   "source": [
    "res1 = (lambda **kwargs : sum(kwargs.values()))\n",
    "res1(a = 10, b =20, c =30), res1(a =10,b =20, c =30, d =40)\n"
   ]
  },
  {
   "cell_type": "code",
   "execution_count": 12,
   "id": "51e32652-de7f-4cc5-af75-9be9efa47bea",
   "metadata": {},
   "outputs": [
    {
     "data": {
      "text/plain": [
       "'\\nfilter(function, iterable)\\nmap(function, iterable)\\nraduce(function iterable)\\n'"
      ]
     },
     "execution_count": 12,
     "metadata": {},
     "output_type": "execute_result"
    }
   ],
   "source": [
    "\"\"\"\n",
    "filter(function, iterable)\n",
    "map(function, iterable)\n",
    "raduce(function iterable)\n",
    "\"\"\""
   ]
  },
  {
   "cell_type": "code",
   "execution_count": 13,
   "id": "283d5c14-f78f-4326-864f-853fb9108c27",
   "metadata": {},
   "outputs": [
    {
     "data": {
      "text/plain": [
       "[1, 3, 5, 7, 9]"
      ]
     },
     "execution_count": 13,
     "metadata": {},
     "output_type": "execute_result"
    }
   ],
   "source": [
    "list1 =[1,2,3,4,5,6,7,8,9]\n",
    "\n",
    "def odd(n):\n",
    "    if n%2 ==1:\n",
    "        return True\n",
    "    else:\n",
    "        return False\n",
    "odd_num = list(filter(odd, list1))\n",
    "odd_num"
   ]
  },
  {
   "cell_type": "code",
   "execution_count": 15,
   "id": "701054a8-73e5-4f6a-941b-a3e9a0d1b6ee",
   "metadata": {},
   "outputs": [
    {
     "data": {
      "text/plain": [
       "[1, 3, 5, 7, 9]"
      ]
     },
     "execution_count": 15,
     "metadata": {},
     "output_type": "execute_result"
    }
   ],
   "source": [
    "list1 =[1,2,3,4,5,6,7,8,9]\n",
    "\n",
    "odd_num = list(filter(lambda n : n%2 == 1, list1))\n",
    "odd_num"
   ]
  },
  {
   "cell_type": "code",
   "execution_count": 16,
   "id": "0ec867c6-c8e9-412b-b3df-f4d1245f2a05",
   "metadata": {},
   "outputs": [
    {
     "data": {
      "text/plain": [
       "[2, 6, 10, 14, 18]"
      ]
     },
     "execution_count": 16,
     "metadata": {},
     "output_type": "execute_result"
    }
   ],
   "source": [
    "def twice(n):\n",
    "    return n*2\n",
    "doubles = list(map(twice, odd_num))\n",
    "doubles"
   ]
  },
  {
   "cell_type": "code",
   "execution_count": 17,
   "id": "ee642d04-1d9a-4653-a47b-560bffb50c7d",
   "metadata": {},
   "outputs": [
    {
     "data": {
      "text/plain": [
       "[2, 6, 10, 14, 18]"
      ]
     },
     "execution_count": 17,
     "metadata": {},
     "output_type": "execute_result"
    }
   ],
   "source": [
    "doubles = list(map(lambda n : n*2, odd_num))\n",
    "doubles"
   ]
  },
  {
   "cell_type": "code",
   "execution_count": 21,
   "id": "9d1e5d66-a018-47fe-9409-a4cf5630347e",
   "metadata": {},
   "outputs": [
    {
     "data": {
      "text/plain": [
       "50"
      ]
     },
     "execution_count": 21,
     "metadata": {},
     "output_type": "execute_result"
    }
   ],
   "source": [
    "from functools import reduce\n",
    "\n",
    "def add(a, b):\n",
    "    return a + b\n",
    "sum_all = reduce(add, doubles)\n",
    "sum_all"
   ]
  },
  {
   "cell_type": "code",
   "execution_count": 26,
   "id": "28999f54-c60a-450b-af0b-2bf00c9a5ac9",
   "metadata": {},
   "outputs": [
    {
     "data": {
      "text/plain": [
       "50"
      ]
     },
     "execution_count": 26,
     "metadata": {},
     "output_type": "execute_result"
    }
   ],
   "source": [
    "sum_all = reduce(lambda a, b : a + b,list(map(lambda n : n*2,list(filter(lambda n : n%2 == 1, list1)))))\n",
    "sum_all\n"
   ]
  },
  {
   "cell_type": "code",
   "execution_count": null,
   "id": "d893f2ea-844e-4c4f-a681-d605128396b0",
   "metadata": {},
   "outputs": [],
   "source": []
  }
 ],
 "metadata": {
  "kernelspec": {
   "display_name": "Python 3 (ipykernel)",
   "language": "python",
   "name": "python3"
  },
  "language_info": {
   "codemirror_mode": {
    "name": "ipython",
    "version": 3
   },
   "file_extension": ".py",
   "mimetype": "text/x-python",
   "name": "python",
   "nbconvert_exporter": "python",
   "pygments_lexer": "ipython3",
   "version": "3.9.12"
  }
 },
 "nbformat": 4,
 "nbformat_minor": 5
}
