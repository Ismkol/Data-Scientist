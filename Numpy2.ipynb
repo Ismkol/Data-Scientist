{
 "cells": [
  {
   "cell_type": "code",
   "execution_count": 1,
   "id": "85b0a5a0-d343-491f-8f95-95b595dbacea",
   "metadata": {},
   "outputs": [],
   "source": [
    "import numpy as np"
   ]
  },
  {
   "cell_type": "code",
   "execution_count": 2,
   "id": "8e08650e-df4f-4e16-a355-b1cf841dba0f",
   "metadata": {},
   "outputs": [
    {
     "data": {
      "text/plain": [
       "array([0., 0., 0., 0., 0., 0., 0., 0., 0., 0.])"
      ]
     },
     "execution_count": 2,
     "metadata": {},
     "output_type": "execute_result"
    }
   ],
   "source": [
    "np.zeros(10)"
   ]
  },
  {
   "cell_type": "code",
   "execution_count": 3,
   "id": "4c210e17-9490-4686-918f-709ef198f9ef",
   "metadata": {},
   "outputs": [
    {
     "data": {
      "text/plain": [
       "array([1., 1., 1., 1., 1., 1., 1., 1., 1.])"
      ]
     },
     "execution_count": 3,
     "metadata": {},
     "output_type": "execute_result"
    }
   ],
   "source": [
    "np.ones(9)"
   ]
  },
  {
   "cell_type": "code",
   "execution_count": 4,
   "id": "d17449a6-57c3-4ccd-b0a9-417b33078cf4",
   "metadata": {},
   "outputs": [
    {
     "data": {
      "text/plain": [
       "array([10, 10, 10, 10, 10])"
      ]
     },
     "execution_count": 4,
     "metadata": {},
     "output_type": "execute_result"
    }
   ],
   "source": [
    "np.repeat(10, 5)"
   ]
  },
  {
   "cell_type": "code",
   "execution_count": 5,
   "id": "5eece972-7c22-49f8-9b49-5c5f7dd92b95",
   "metadata": {},
   "outputs": [
    {
     "data": {
      "text/plain": [
       "array([10, 10, 10, 20, 20, 20, 30, 30, 30])"
      ]
     },
     "execution_count": 5,
     "metadata": {},
     "output_type": "execute_result"
    }
   ],
   "source": [
    "a = np.array([10,20,30])\n",
    "np.repeat(a, 3)"
   ]
  },
  {
   "cell_type": "code",
   "execution_count": 6,
   "id": "344a2317-49dd-4150-bb06-f4b19d9e9802",
   "metadata": {},
   "outputs": [
    {
     "data": {
      "text/plain": [
       "array([10, 10, 10, 10, 10])"
      ]
     },
     "execution_count": 9,
     "metadata": {},
     "output_type": "execute_result"
    }
   ],
   "source": [
    "np.full(5, 10)"
   ]
  },
  {
   "cell_type": "code",
   "execution_count": 7,
   "id": "a3346d08-4dcb-49a5-8609-d9ef0161e660",
   "metadata": {},
   "outputs": [
    {
     "data": {
      "text/plain": [
       "array([ 1,  3,  5,  7,  9, 11, 13, 15, 17, 19])"
      ]
     },
     "execution_count": 8,
     "metadata": {},
     "output_type": "execute_result"
    }
   ],
   "source": [
    "ar1 = np.arange(1,20)\n",
    "ar1[ar1 % 2 == 1]"
   ]
  },
  {
   "cell_type": "code",
   "execution_count": 10,
   "id": "4025d5fc-ba44-4d44-a0f8-743e82c0b2dd",
   "metadata": {},
   "outputs": [
    {
     "data": {
      "text/plain": [
       "array([ 2,  4,  6,  8, 10, 12, 14, 16, 18])"
      ]
     },
     "execution_count": 10,
     "metadata": {},
     "output_type": "execute_result"
    }
   ],
   "source": [
    "ar1 = np.arange(1,20)\n",
    "ar1[ar1 % 2 == 0]"
   ]
  },
  {
   "cell_type": "code",
   "execution_count": 13,
   "id": "ac5407e3-886c-49b4-9756-94e2bc7d3801",
   "metadata": {},
   "outputs": [
    {
     "data": {
      "text/plain": [
       "array([10. , 12.5, 15. , 17.5, 20. ])"
      ]
     },
     "execution_count": 13,
     "metadata": {},
     "output_type": "execute_result"
    }
   ],
   "source": [
    "np.linspace(10,20,5)"
   ]
  },
  {
   "cell_type": "code",
   "execution_count": 21,
   "id": "bca5b476-8a4e-48b9-badd-5c6f10afae57",
   "metadata": {},
   "outputs": [
    {
     "data": {
      "text/plain": [
       "array([0.39211752, 0.34317802, 0.72904971, 0.43857224, 0.0596779 ])"
      ]
     },
     "execution_count": 21,
     "metadata": {},
     "output_type": "execute_result"
    }
   ],
   "source": [
    "np.random.random(5) #defoult 0-1 aralığında üretir"
   ]
  },
  {
   "cell_type": "code",
   "execution_count": 22,
   "id": "96287734-2d9a-4b1e-817e-e2a70c54e789",
   "metadata": {},
   "outputs": [
    {
     "data": {
      "text/plain": [
       "array([ 96, 208,  68, 305, 311])"
      ]
     },
     "execution_count": 22,
     "metadata": {},
     "output_type": "execute_result"
    }
   ],
   "source": [
    "np.random.randint(0,500,5)"
   ]
  },
  {
   "cell_type": "code",
   "execution_count": 23,
   "id": "ee76266a-c77f-43c9-88df-28c170c56c2f",
   "metadata": {},
   "outputs": [
    {
     "data": {
      "text/plain": [
       "array([66, 92, 98, 17, 83, 57, 86, 97, 96, 47])"
      ]
     },
     "execution_count": 23,
     "metadata": {},
     "output_type": "execute_result"
    }
   ],
   "source": [
    "np.random.seed(123) #çekirdek değeri kullanarak sabitleme\n",
    "np.random.randint(0,100,10)"
   ]
  },
  {
   "cell_type": "code",
   "execution_count": 20,
   "id": "622e0c34-312d-45b7-9dda-d024c55f3f3e",
   "metadata": {},
   "outputs": [
    {
     "data": {
      "text/plain": [
       "array([66, 92, 98, 17, 83, 57, 86, 97, 96, 47])"
      ]
     },
     "execution_count": 20,
     "metadata": {},
     "output_type": "execute_result"
    }
   ],
   "source": [
    "np.random.seed(123) #çekirdek değeri kullanarak sabitleme\n",
    "np.random.randint(0,100,10)"
   ]
  },
  {
   "cell_type": "code",
   "execution_count": 18,
   "id": "94463365-b11f-481f-99a0-80a019826623",
   "metadata": {},
   "outputs": [
    {
     "data": {
      "text/plain": [
       "array([66, 85,  8, 95, 65, 52, 83, 96, 46, 34])"
      ]
     },
     "execution_count": 18,
     "metadata": {},
     "output_type": "execute_result"
    }
   ],
   "source": [
    "np.random.seed(121) #çekirdek değeri kullanarak sabitleme\n",
    "np.random.randint(0,100,10)"
   ]
  },
  {
   "cell_type": "code",
   "execution_count": 27,
   "id": "de5c2b70-4759-45e0-9d73-d9dbb354038f",
   "metadata": {},
   "outputs": [
    {
     "data": {
      "text/plain": [
       "array([6.96058759, 6.71589008, 8.64524854, 7.19286122, 5.29838948,\n",
       "       6.99022128, 8.68997703, 5.91245865, 5.87725878, 7.65775687])"
      ]
     },
     "execution_count": 27,
     "metadata": {},
     "output_type": "execute_result"
    }
   ],
   "source": [
    "f1 = np.random.uniform(5,10, size =(10))\n",
    "f1"
   ]
  },
  {
   "cell_type": "code",
   "execution_count": 28,
   "id": "033be57e-4fb0-4103-abe6-3f8335af3ff6",
   "metadata": {},
   "outputs": [
    {
     "data": {
      "text/plain": [
       "array([6., 6., 8., 7., 5., 6., 8., 5., 5., 7.])"
      ]
     },
     "execution_count": 28,
     "metadata": {},
     "output_type": "execute_result"
    }
   ],
   "source": [
    "np.floor(f1)\n",
    "np.trunc(f1)\n"
   ]
  },
  {
   "cell_type": "code",
   "execution_count": 29,
   "id": "1218cebe-f33e-4706-be2b-ed8f9139c4a1",
   "metadata": {},
   "outputs": [
    {
     "data": {
      "text/plain": [
       "array([6., 6., 8., 7., 5., 6., 8., 5., 5., 7.])"
      ]
     },
     "execution_count": 29,
     "metadata": {},
     "output_type": "execute_result"
    }
   ],
   "source": [
    "np.trunc(f1)"
   ]
  },
  {
   "cell_type": "code",
   "execution_count": 30,
   "id": "5c162fec-58a7-4fda-a84b-89c9c966157b",
   "metadata": {},
   "outputs": [
    {
     "data": {
      "text/plain": [
       "array([6, 6, 8, 7, 5, 6, 8, 5, 5, 7])"
      ]
     },
     "execution_count": 30,
     "metadata": {},
     "output_type": "execute_result"
    }
   ],
   "source": [
    "f1.astype(int)"
   ]
  },
  {
   "cell_type": "code",
   "execution_count": 32,
   "id": "765e2e0f-1008-4c69-b4e0-396b691b1a48",
   "metadata": {},
   "outputs": [
    {
     "data": {
      "text/plain": [
       "array([ 2.20742744,  0.52274247,  0.46564476,  0.72491523,  1.49582653,\n",
       "        0.74658059, -1.10098526, -1.4103012 , -0.74765132, -0.98486761])"
      ]
     },
     "execution_count": 32,
     "metadata": {},
     "output_type": "execute_result"
    }
   ],
   "source": [
    "b2 = np.random.randn(10) #mean = 0 variance = 1\n",
    "b2"
   ]
  },
  {
   "cell_type": "code",
   "execution_count": 33,
   "id": "7e057cfd-6d3e-4afa-a283-4bba4cf5a3d2",
   "metadata": {},
   "outputs": [
    {
     "name": "stdout",
     "output_type": "stream",
     "text": [
      "(0,) 10\n",
      "(1,) 20\n",
      "(2,) 30\n",
      "(3,) 40\n",
      "(4,) 50\n",
      "(5,) 60\n"
     ]
    }
   ],
   "source": [
    "arr1 = np.array([10,20,30,40,50,60])\n",
    "for index, value in np.ndenumerate(arr1):\n",
    "    print(index, value)"
   ]
  },
  {
   "cell_type": "code",
   "execution_count": 34,
   "id": "c78a54a0-34de-4980-8d4b-2bcc51748a5b",
   "metadata": {},
   "outputs": [
    {
     "data": {
      "text/plain": [
       "array([ 1,  2,  3,  4,  5,  6,  7,  8,  9, 10, 11, 12, 13, 14, 15, 16, 17,\n",
       "       18, 19])"
      ]
     },
     "execution_count": 34,
     "metadata": {},
     "output_type": "execute_result"
    }
   ],
   "source": [
    "arr2 = np.arange(1,20)\n",
    "arr2"
   ]
  },
  {
   "cell_type": "code",
   "execution_count": 35,
   "id": "16e4e4b3-f6bf-439e-87e3-0c3a3599744d",
   "metadata": {},
   "outputs": [
    {
     "data": {
      "text/plain": [
       "190"
      ]
     },
     "execution_count": 35,
     "metadata": {},
     "output_type": "execute_result"
    }
   ],
   "source": [
    "arr2.sum()"
   ]
  },
  {
   "cell_type": "code",
   "execution_count": 36,
   "id": "08bc4c6e-37e1-481a-bba5-0cf99e52818f",
   "metadata": {},
   "outputs": [
    {
     "data": {
      "text/plain": [
       "array([  1,   3,   6,  10,  15,  21,  28,  36,  45,  55,  66,  78,  91,\n",
       "       105, 120, 136, 153, 171, 190], dtype=int32)"
      ]
     },
     "execution_count": 36,
     "metadata": {},
     "output_type": "execute_result"
    }
   ],
   "source": [
    "np.cumsum(arr2)"
   ]
  },
  {
   "cell_type": "code",
   "execution_count": 39,
   "id": "fe92486d-ef6b-4457-b17c-5117f4391fba",
   "metadata": {},
   "outputs": [
    {
     "data": {
      "text/plain": [
       "10.0"
      ]
     },
     "execution_count": 39,
     "metadata": {},
     "output_type": "execute_result"
    }
   ],
   "source": [
    "#np.min(arr2) np.max(arr2) np.mean(arr2) "
   ]
  },
  {
   "cell_type": "code",
   "execution_count": 40,
   "id": "ca8bf423-6141-4fce-9057-2c4af4d5115b",
   "metadata": {},
   "outputs": [
    {
     "data": {
      "text/plain": [
       "5.477225575051661"
      ]
     },
     "execution_count": 40,
     "metadata": {},
     "output_type": "execute_result"
    }
   ],
   "source": [
    "np.std(arr2)"
   ]
  },
  {
   "cell_type": "code",
   "execution_count": 53,
   "id": "6dd28d5b-4688-449a-8b3b-9e5928a8b5fb",
   "metadata": {},
   "outputs": [
    {
     "data": {
      "text/plain": [
       "array([[ 1,  2,  3,  0, 81],\n",
       "       [ 5,  6,  7, 22, 42],\n",
       "       [10, 11,  1, 13, 84],\n",
       "       [17, 41,  3, 17, 66],\n",
       "       [77, 47, 37, 97, 61]])"
      ]
     },
     "execution_count": 53,
     "metadata": {},
     "output_type": "execute_result"
    }
   ],
   "source": [
    "A = np.array([[1,2,3,0,81],[5,6,7,22,42],[10,11,1,13,84],[17,41,3,17,66],[77,47,37,97,61]])\n",
    "A"
   ]
  },
  {
   "cell_type": "code",
   "execution_count": 54,
   "id": "f96bd7cb-1759-4fed-b3cc-272ed0661bfb",
   "metadata": {},
   "outputs": [
    {
     "data": {
      "text/plain": [
       "751"
      ]
     },
     "execution_count": 54,
     "metadata": {},
     "output_type": "execute_result"
    }
   ],
   "source": [
    "A.sum()"
   ]
  },
  {
   "cell_type": "code",
   "execution_count": 55,
   "id": "b6a5133f-3ed2-4ff4-a8bd-d4ac1ce1afb2",
   "metadata": {},
   "outputs": [
    {
     "data": {
      "text/plain": [
       "97"
      ]
     },
     "execution_count": 55,
     "metadata": {},
     "output_type": "execute_result"
    }
   ],
   "source": [
    "A.max()"
   ]
  },
  {
   "cell_type": "code",
   "execution_count": 56,
   "id": "cd01e022-a774-4ca0-b1f7-367812549e21",
   "metadata": {},
   "outputs": [
    {
     "data": {
      "text/plain": [
       "array([ 1,  2,  1,  0, 42])"
      ]
     },
     "execution_count": 56,
     "metadata": {},
     "output_type": "execute_result"
    }
   ],
   "source": [
    "np.amin(A, axis = 0) #np da axis = 0 sütuna karşılık gelir axis = 1 satıra denk gelir"
   ]
  },
  {
   "cell_type": "code",
   "execution_count": 57,
   "id": "7fab8a29-f201-404c-8d27-ed3eb5a0d9c7",
   "metadata": {},
   "outputs": [
    {
     "data": {
      "text/plain": [
       "30.04"
      ]
     },
     "execution_count": 57,
     "metadata": {},
     "output_type": "execute_result"
    }
   ],
   "source": [
    "A.mean() #median() , var(), std()"
   ]
  },
  {
   "cell_type": "code",
   "execution_count": 58,
   "id": "445b5610-bd31-4aa2-8b51-9792092cd0ef",
   "metadata": {},
   "outputs": [
    {
     "name": "stdout",
     "output_type": "stream",
     "text": [
      "(0, 0) 1\n",
      "(0, 1) 2\n",
      "(0, 2) 3\n",
      "(0, 3) 0\n",
      "(0, 4) 81\n",
      "(1, 0) 5\n",
      "(1, 1) 6\n",
      "(1, 2) 7\n",
      "(1, 3) 22\n",
      "(1, 4) 42\n",
      "(2, 0) 10\n",
      "(2, 1) 11\n",
      "(2, 2) 1\n",
      "(2, 3) 13\n",
      "(2, 4) 84\n",
      "(3, 0) 17\n",
      "(3, 1) 41\n",
      "(3, 2) 3\n",
      "(3, 3) 17\n",
      "(3, 4) 66\n",
      "(4, 0) 77\n",
      "(4, 1) 47\n",
      "(4, 2) 37\n",
      "(4, 3) 97\n",
      "(4, 4) 61\n"
     ]
    }
   ],
   "source": [
    "for index, value in np.ndenumerate(A):\n",
    "    print(index, value)"
   ]
  },
  {
   "cell_type": "code",
   "execution_count": 60,
   "id": "c7751344-2e3d-4e0a-a274-102f7a012616",
   "metadata": {},
   "outputs": [
    {
     "data": {
      "text/plain": [
       "array([7, 8, 5, 6, 4])"
      ]
     },
     "execution_count": 60,
     "metadata": {},
     "output_type": "execute_result"
    }
   ],
   "source": [
    "a = np.array([7,8,5,6,4])\n",
    "a"
   ]
  },
  {
   "cell_type": "code",
   "execution_count": 61,
   "id": "cabdf96b-53a9-4ccf-b718-6ccce0af3ffe",
   "metadata": {},
   "outputs": [
    {
     "data": {
      "text/plain": [
       "7"
      ]
     },
     "execution_count": 61,
     "metadata": {},
     "output_type": "execute_result"
    }
   ],
   "source": [
    "a[0]"
   ]
  },
  {
   "cell_type": "code",
   "execution_count": 62,
   "id": "9ab84cca-d585-4ffb-aa16-d5e87afc8598",
   "metadata": {},
   "outputs": [
    {
     "data": {
      "text/plain": [
       "array([8, 5])"
      ]
     },
     "execution_count": 62,
     "metadata": {},
     "output_type": "execute_result"
    }
   ],
   "source": [
    "a[1:3]"
   ]
  },
  {
   "cell_type": "code",
   "execution_count": 63,
   "id": "21038b64-80e9-4edc-a92a-fdfac70beae3",
   "metadata": {},
   "outputs": [
    {
     "data": {
      "text/plain": [
       "4"
      ]
     },
     "execution_count": 63,
     "metadata": {},
     "output_type": "execute_result"
    }
   ],
   "source": [
    "a[-1]"
   ]
  },
  {
   "cell_type": "code",
   "execution_count": 64,
   "id": "591641c2-43e2-4b0c-95b5-56895ffb8c78",
   "metadata": {},
   "outputs": [],
   "source": [
    "#elemanları dizi işerisinde değiştirme"
   ]
  },
  {
   "cell_type": "code",
   "execution_count": 75,
   "id": "14e4b8ec-8c8d-4daa-8f6c-d8fca3a363e5",
   "metadata": {},
   "outputs": [
    {
     "data": {
      "text/plain": [
       "array([ 0,  1,  2,  3,  4,  5,  6,  7,  8,  9, 10, 11, 12, 13, 14, 15, 16,\n",
       "       17, 18, 19])"
      ]
     },
     "execution_count": 75,
     "metadata": {},
     "output_type": "execute_result"
    }
   ],
   "source": [
    "ar =np.arange(0,20)\n",
    "ar"
   ]
  },
  {
   "cell_type": "code",
   "execution_count": 77,
   "id": "9e0f0e09-cccf-4b42-ad1b-0cfc51f81b6a",
   "metadata": {},
   "outputs": [
    {
     "data": {
      "text/plain": [
       "array([ 0,  1,  0,  3,  0,  5,  0,  7,  0,  9,  0, 11,  0, 13,  0, 15,  0,\n",
       "       17,  0, 19])"
      ]
     },
     "execution_count": 77,
     "metadata": {},
     "output_type": "execute_result"
    }
   ],
   "source": [
    "rep1 = np.where(ar % 2 == 0, 0, ar)\n",
    "rep1"
   ]
  },
  {
   "cell_type": "code",
   "execution_count": 79,
   "id": "a9bc58f9-d8c9-46d5-a203-53784be16239",
   "metadata": {},
   "outputs": [
    {
     "data": {
      "text/plain": [
       "array([10, 20, 30, 10, 10, 20, 20])"
      ]
     },
     "execution_count": 79,
     "metadata": {},
     "output_type": "execute_result"
    }
   ],
   "source": [
    "ar2 = np.array([10,20,30,10,10,20,20,])\n",
    "ar2"
   ]
  },
  {
   "cell_type": "code",
   "execution_count": 81,
   "id": "85f9f116-afe6-4084-8e13-2faf2da5ec8e",
   "metadata": {},
   "outputs": [
    {
     "data": {
      "text/plain": [
       "array([99, 20, 30, 99, 99, 20, 20])"
      ]
     },
     "execution_count": 81,
     "metadata": {},
     "output_type": "execute_result"
    }
   ],
   "source": [
    "rep2 = np.where(ar2 == 10, 99, ar2)\n",
    "rep2"
   ]
  },
  {
   "cell_type": "code",
   "execution_count": 82,
   "id": "7b0a3536-df4e-4306-8b8c-3cd164abe2f9",
   "metadata": {},
   "outputs": [
    {
     "data": {
      "text/plain": [
       "array([ 0, 10, 20, 30, 40, 50, 60, 70, 80, 90])"
      ]
     },
     "execution_count": 82,
     "metadata": {},
     "output_type": "execute_result"
    }
   ],
   "source": [
    "p2 = np.arange(0,100,10)\n",
    "p2"
   ]
  },
  {
   "cell_type": "code",
   "execution_count": 83,
   "id": "76daed31-e15f-4f47-96d7-2b4fa8ac22d9",
   "metadata": {},
   "outputs": [
    {
     "data": {
      "text/plain": [
       "array([11, 10, 20, 22, 40, 33, 60, 70, 80, 90])"
      ]
     },
     "execution_count": 83,
     "metadata": {},
     "output_type": "execute_result"
    }
   ],
   "source": [
    "np.put(p2,[0,3,5],[11,22,33])\n",
    "p2"
   ]
  },
  {
   "cell_type": "code",
   "execution_count": null,
   "id": "914c2218-eac7-4aec-aaae-8546d1713275",
   "metadata": {},
   "outputs": [],
   "source": []
  }
 ],
 "metadata": {
  "kernelspec": {
   "display_name": "Python 3 (ipykernel)",
   "language": "python",
   "name": "python3"
  },
  "language_info": {
   "codemirror_mode": {
    "name": "ipython",
    "version": 3
   },
   "file_extension": ".py",
   "mimetype": "text/x-python",
   "name": "python",
   "nbconvert_exporter": "python",
   "pygments_lexer": "ipython3",
   "version": "3.9.12"
  }
 },
 "nbformat": 4,
 "nbformat_minor": 5
}
