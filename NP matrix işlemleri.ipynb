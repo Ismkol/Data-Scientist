{
 "cells": [
  {
   "cell_type": "code",
   "execution_count": 1,
   "id": "d797efb9-a26c-409f-b8f3-285ff66409ef",
   "metadata": {},
   "outputs": [],
   "source": [
    "#üçgen matris"
   ]
  },
  {
   "cell_type": "code",
   "execution_count": 45,
   "id": "953550e9-7b6d-4538-a621-58d21524d88c",
   "metadata": {},
   "outputs": [],
   "source": [
    "import numpy as np\n",
    "import warnings\n",
    "warnings.filterwarnings(\"ignore\")"
   ]
  },
  {
   "cell_type": "code",
   "execution_count": 9,
   "id": "70c23409-58fe-4cd5-b34d-54b85245ff79",
   "metadata": {},
   "outputs": [
    {
     "name": "stdout",
     "output_type": "stream",
     "text": [
      "[[ 0.43289501 -1.08578766 -1.6190661   0.01498718 -0.70580075]\n",
      " [ 0.01368025  1.420475    0.12282544  0.79241785 -1.62566695]\n",
      " [ 0.75542637  1.23967446  0.57545525  1.87429    -0.40514205]\n",
      " [-1.65955717  0.34389227  0.90054082  1.35184587  1.80449364]\n",
      " [ 2.40805849 -0.17307887  1.0768061   1.17064431  0.52598084]]\n",
      "\n",
      "\n",
      "Upper triangular matrix - \n",
      " [[ 0.43289501 -1.08578766 -1.6190661   0.01498718 -0.70580075]\n",
      " [ 0.          1.420475    0.12282544  0.79241785 -1.62566695]\n",
      " [ 0.          0.          0.57545525  1.87429    -0.40514205]\n",
      " [ 0.          0.          0.          1.35184587  1.80449364]\n",
      " [ 0.          0.          0.          0.          0.52598084]]\n",
      "\n",
      "\n",
      "Lower triangular matrix - \n",
      " [[ 0.43289501  0.          0.          0.          0.        ]\n",
      " [ 0.01368025  1.420475    0.          0.          0.        ]\n",
      " [ 0.75542637  1.23967446  0.57545525  0.          0.        ]\n",
      " [-1.65955717  0.34389227  0.90054082  1.35184587  0.        ]\n",
      " [ 2.40805849 -0.17307887  1.0768061   1.17064431  0.52598084]]\n"
     ]
    }
   ],
   "source": [
    "M = np.random.randn(5,5)\n",
    "print(M)\n",
    "print(\"\\n\")\n",
    "      \n",
    "U = np.triu(M)\n",
    "print(\"Upper triangular matrix - \\n\", U)\n",
    "print(\"\\n\")\n",
    "L = np.tril(M)\n",
    "print(\"Lower triangular matrix - \\n\", L)"
   ]
  },
  {
   "cell_type": "code",
   "execution_count": 10,
   "id": "1af0b377-b19e-4e97-b2d8-53d451bbacde",
   "metadata": {},
   "outputs": [],
   "source": [
    "# SWAP satır/sutün"
   ]
  },
  {
   "cell_type": "code",
   "execution_count": 11,
   "id": "f6ae7583-3ee8-4750-ab44-8b918bd58d68",
   "metadata": {},
   "outputs": [
    {
     "data": {
      "text/plain": [
       "array([[ 0,  1,  2,  3],\n",
       "       [ 4,  5,  6,  7],\n",
       "       [ 8,  9, 10, 11],\n",
       "       [12, 13, 14, 15]])"
      ]
     },
     "execution_count": 11,
     "metadata": {},
     "output_type": "execute_result"
    }
   ],
   "source": [
    "m1 = np.arange(0,16).reshape(4,4)\n",
    "m1"
   ]
  },
  {
   "cell_type": "code",
   "execution_count": 14,
   "id": "e828765b-8a6b-405a-b5f2-511ab5d76d38",
   "metadata": {},
   "outputs": [
    {
     "data": {
      "text/plain": [
       "array([[ 0,  1,  2,  3],\n",
       "       [ 4,  5,  6,  7],\n",
       "       [12, 13, 14, 15],\n",
       "       [ 8,  9, 10, 11]])"
      ]
     },
     "execution_count": 14,
     "metadata": {},
     "output_type": "execute_result"
    }
   ],
   "source": [
    "m1[[3,2]] = m1[[2,3]]\n",
    "m1"
   ]
  },
  {
   "cell_type": "code",
   "execution_count": 15,
   "id": "ce7f7d0b-5b57-4c98-99d9-10d88a142cb1",
   "metadata": {},
   "outputs": [
    {
     "data": {
      "text/plain": [
       "array([[ 0,  1,  2,  3,  4,  5],\n",
       "       [ 6,  7,  8,  9, 10, 11],\n",
       "       [12, 13, 14, 15, 16, 17],\n",
       "       [18, 19, 20, 21, 22, 23],\n",
       "       [24, 25, 26, 27, 28, 29],\n",
       "       [30, 31, 32, 33, 34, 35]])"
      ]
     },
     "execution_count": 15,
     "metadata": {},
     "output_type": "execute_result"
    }
   ],
   "source": [
    "m2 = np.arange(0,36).reshape(6,6)\n",
    "m2"
   ]
  },
  {
   "cell_type": "code",
   "execution_count": 18,
   "id": "88f4d582-4b42-4c9e-ba7b-5c5d8e872d6d",
   "metadata": {},
   "outputs": [
    {
     "data": {
      "text/plain": [
       "array([[ 0,  1,  3,  2,  4,  5],\n",
       "       [ 6,  7,  9,  8, 10, 11],\n",
       "       [12, 13, 15, 14, 16, 17],\n",
       "       [18, 19, 21, 20, 22, 23],\n",
       "       [24, 25, 27, 26, 28, 29],\n",
       "       [30, 31, 33, 32, 34, 35]])"
      ]
     },
     "execution_count": 18,
     "metadata": {},
     "output_type": "execute_result"
    }
   ],
   "source": [
    "m2[:, [2,3]] = m2[:, [3,2]]\n",
    "m2"
   ]
  },
  {
   "cell_type": "code",
   "execution_count": 19,
   "id": "31c0ebb0-899b-426a-b2b0-0e11aa29325d",
   "metadata": {},
   "outputs": [],
   "source": [
    "#Transpose"
   ]
  },
  {
   "cell_type": "code",
   "execution_count": 30,
   "id": "a2ab0794-0c57-4864-b413-67761753890d",
   "metadata": {},
   "outputs": [
    {
     "name": "stdout",
     "output_type": "stream",
     "text": [
      "[[ 1  5 10 17 77]\n",
      " [ 2  6 11 41 47]\n",
      " [ 3  7  1  3 37]\n",
      " [ 0 22 13 17 97]\n",
      " [81 42 84 66 61]]\n",
      "[[ 1  5 10 17 77]\n",
      " [ 2  6 11 41 47]\n",
      " [ 3  7  1  3 37]\n",
      " [ 0 22 13 17 97]\n",
      " [81 42 84 66 61]]\n"
     ]
    }
   ],
   "source": [
    "M = np.array([[1,2,3,0,81],[5,6,7,22,42],[10,11,1,13,84],[17,41,3,17,66],[77,47,37,97,61]])\n",
    "M\n",
    "\n",
    "print(np.transpose(M))\n",
    "\n",
    "#veya\n",
    "\n",
    "print(M.T)"
   ]
  },
  {
   "cell_type": "code",
   "execution_count": 31,
   "id": "5d355f23-7b8b-4081-a348-4f11802d45cc",
   "metadata": {},
   "outputs": [
    {
     "name": "stdout",
     "output_type": "stream",
     "text": [
      "-17808752.00000002\n"
     ]
    }
   ],
   "source": [
    "print(np.linalg.det(M))"
   ]
  },
  {
   "cell_type": "code",
   "execution_count": 32,
   "id": "b4c5b3be-73a2-4f2e-a0d4-1490853f500e",
   "metadata": {},
   "outputs": [
    {
     "name": "stdout",
     "output_type": "stream",
     "text": [
      "5\n"
     ]
    }
   ],
   "source": [
    "print(np.linalg.matrix_rank(M))"
   ]
  },
  {
   "cell_type": "code",
   "execution_count": 33,
   "id": "9891b9ae-9f2e-47ee-8341-3009de6266e6",
   "metadata": {},
   "outputs": [
    {
     "data": {
      "text/plain": [
       "array([[1, 2],\n",
       "       [4, 5]])"
      ]
     },
     "execution_count": 33,
     "metadata": {},
     "output_type": "execute_result"
    }
   ],
   "source": [
    "M1 = np.array([[1,2],[4,5]])\n",
    "M1"
   ]
  },
  {
   "cell_type": "code",
   "execution_count": 34,
   "id": "d31ada5e-27a9-4a78-9ed5-cb348c6203fb",
   "metadata": {},
   "outputs": [
    {
     "data": {
      "text/plain": [
       "array([[ 57,  78],\n",
       "       [156, 213]])"
      ]
     },
     "execution_count": 34,
     "metadata": {},
     "output_type": "execute_result"
    }
   ],
   "source": [
    "M1@M1@M1"
   ]
  },
  {
   "cell_type": "code",
   "execution_count": 35,
   "id": "e5e71415-921f-447b-b49b-92b633361e56",
   "metadata": {},
   "outputs": [
    {
     "data": {
      "text/plain": [
       "array([[ 57,  78],\n",
       "       [156, 213]])"
      ]
     },
     "execution_count": 35,
     "metadata": {},
     "output_type": "execute_result"
    }
   ],
   "source": [
    "np.linalg.matrix_power(M1,3)"
   ]
  },
  {
   "cell_type": "code",
   "execution_count": 36,
   "id": "b4289df3-8cb6-45ce-ba64-7086af77b3a6",
   "metadata": {},
   "outputs": [],
   "source": [
    "#Tensörler"
   ]
  },
  {
   "cell_type": "code",
   "execution_count": 37,
   "id": "15890188-07c2-438a-b9d1-7504c720b75e",
   "metadata": {},
   "outputs": [
    {
     "data": {
      "text/plain": [
       "array([[[  1,   2,   3],\n",
       "        [  4,   5,   6],\n",
       "        [  7,   8,   9]],\n",
       "\n",
       "       [[ 10,  20,  30],\n",
       "        [ 40,  50,  60],\n",
       "        [ 70,  80,  90]],\n",
       "\n",
       "       [[100, 200, 300],\n",
       "        [400, 500, 600],\n",
       "        [700, 800, 900]]])"
      ]
     },
     "execution_count": 37,
     "metadata": {},
     "output_type": "execute_result"
    }
   ],
   "source": [
    "T1 = np.array([\n",
    "    [[1,2,3],[4,5,6],[7,8,9]],\n",
    "    [[10,20,30],[40,50,60],[70,80,90]],\n",
    "    [[100,200,300],[400,500,600],[700,800,900]],\n",
    "])\n",
    "T1"
   ]
  },
  {
   "cell_type": "code",
   "execution_count": 38,
   "id": "64ce0ad1-ea35-451c-aca5-41cd15dc353b",
   "metadata": {},
   "outputs": [
    {
     "data": {
      "text/plain": [
       "array([[[0, 0, 0],\n",
       "        [0, 0, 0],\n",
       "        [0, 0, 0]],\n",
       "\n",
       "       [[1, 1, 1],\n",
       "        [1, 1, 1],\n",
       "        [1, 1, 1]],\n",
       "\n",
       "       [[2, 2, 2],\n",
       "        [2, 2, 2],\n",
       "        [2, 2, 2]]])"
      ]
     },
     "execution_count": 38,
     "metadata": {},
     "output_type": "execute_result"
    }
   ],
   "source": [
    "T2 = np.array([\n",
    "    [[0,0,0],[0,0,0],[0,0,0]],\n",
    "    [[1,1,1],[1,1,1],[1,1,1]],\n",
    "    [[2,2,2],[2,2,2],[2,2,2]],\n",
    "])\n",
    "T2"
   ]
  },
  {
   "cell_type": "code",
   "execution_count": 39,
   "id": "43e147d2-e224-4600-bca0-96afc81709a6",
   "metadata": {},
   "outputs": [
    {
     "data": {
      "text/plain": [
       "array([[[  1,   2,   3],\n",
       "        [  4,   5,   6],\n",
       "        [  7,   8,   9]],\n",
       "\n",
       "       [[ 11,  21,  31],\n",
       "        [ 41,  51,  61],\n",
       "        [ 71,  81,  91]],\n",
       "\n",
       "       [[102, 202, 302],\n",
       "        [402, 502, 602],\n",
       "        [702, 802, 902]]])"
      ]
     },
     "execution_count": 39,
     "metadata": {},
     "output_type": "execute_result"
    }
   ],
   "source": [
    "A = T1 + T2\n",
    "A #veya \n",
    "np.add(T1, T2)"
   ]
  },
  {
   "cell_type": "code",
   "execution_count": 40,
   "id": "fb0de2bc-4c11-4e8a-b4c4-1967313915bd",
   "metadata": {},
   "outputs": [
    {
     "data": {
      "text/plain": [
       "array([[[  1,   2,   3],\n",
       "        [  4,   5,   6],\n",
       "        [  7,   8,   9]],\n",
       "\n",
       "       [[  9,  19,  29],\n",
       "        [ 39,  49,  59],\n",
       "        [ 69,  79,  89]],\n",
       "\n",
       "       [[ 98, 198, 298],\n",
       "        [398, 498, 598],\n",
       "        [698, 798, 898]]])"
      ]
     },
     "execution_count": 40,
     "metadata": {},
     "output_type": "execute_result"
    }
   ],
   "source": [
    "S = T1 - T2\n",
    "S #veya \n",
    "np.subtract(T1, T2)"
   ]
  },
  {
   "cell_type": "code",
   "execution_count": 41,
   "id": "acfb8d9b-bdbd-4cca-8518-f21d3f60aa0b",
   "metadata": {},
   "outputs": [
    {
     "data": {
      "text/plain": [
       "array([[[   0,    0,    0],\n",
       "        [   0,    0,    0],\n",
       "        [   0,    0,    0]],\n",
       "\n",
       "       [[  10,   20,   30],\n",
       "        [  40,   50,   60],\n",
       "        [  70,   80,   90]],\n",
       "\n",
       "       [[ 200,  400,  600],\n",
       "        [ 800, 1000, 1200],\n",
       "        [1400, 1600, 1800]]])"
      ]
     },
     "execution_count": 41,
     "metadata": {},
     "output_type": "execute_result"
    }
   ],
   "source": [
    "P = T1 * T2\n",
    "P #veya \n",
    "np.multiply(T1, T2)"
   ]
  },
  {
   "cell_type": "code",
   "execution_count": 46,
   "id": "4db3b6ec-27bc-4c79-977f-e485165a57b8",
   "metadata": {},
   "outputs": [
    {
     "data": {
      "text/plain": [
       "array([[[ inf,  inf,  inf],\n",
       "        [ inf,  inf,  inf],\n",
       "        [ inf,  inf,  inf]],\n",
       "\n",
       "       [[ 10.,  20.,  30.],\n",
       "        [ 40.,  50.,  60.],\n",
       "        [ 70.,  80.,  90.]],\n",
       "\n",
       "       [[ 50., 100., 150.],\n",
       "        [200., 250., 300.],\n",
       "        [350., 400., 450.]]])"
      ]
     },
     "execution_count": 46,
     "metadata": {},
     "output_type": "execute_result"
    }
   ],
   "source": [
    "D = T1 / T2\n",
    "D #veya \n",
    "np.divide(T1, T2)"
   ]
  },
  {
   "cell_type": "code",
   "execution_count": null,
   "id": "87ba2198-8478-4b10-ac9b-86ffd41d5c84",
   "metadata": {},
   "outputs": [],
   "source": []
  }
 ],
 "metadata": {
  "kernelspec": {
   "display_name": "Python 3 (ipykernel)",
   "language": "python",
   "name": "python3"
  },
  "language_info": {
   "codemirror_mode": {
    "name": "ipython",
    "version": 3
   },
   "file_extension": ".py",
   "mimetype": "text/x-python",
   "name": "python",
   "nbconvert_exporter": "python",
   "pygments_lexer": "ipython3",
   "version": "3.9.12"
  }
 },
 "nbformat": 4,
 "nbformat_minor": 5
}
