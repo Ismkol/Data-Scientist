{
 "cells": [
  {
   "cell_type": "code",
   "execution_count": 2,
   "id": "b6c62331-6c74-451a-bbde-848a0237eb35",
   "metadata": {},
   "outputs": [],
   "source": [
    "#dictionary (sözlük)"
   ]
  },
  {
   "cell_type": "code",
   "execution_count": 4,
   "id": "226c03b8-75d1-4836-a0b0-852a2bd6dae1",
   "metadata": {},
   "outputs": [
    {
     "name": "stdout",
     "output_type": "stream",
     "text": [
      "dict['Name']: İsmail\n",
      "dict['Age']: 10\n",
      "dict['Class']: First\n"
     ]
    }
   ],
   "source": [
    "dict = {'Name': 'İsmail', 'Age' : 10, 'Class' : 'First'}\n",
    "print(\"dict['Name']:\", dict['Name'])\n",
    "print(\"dict['Age']:\", dict['Age'])\n",
    "print(\"dict['Class']:\", dict['Class'])"
   ]
  },
  {
   "cell_type": "code",
   "execution_count": 5,
   "id": "c0839e8d-0c52-4fb2-8abe-c747df5146d0",
   "metadata": {},
   "outputs": [
    {
     "ename": "TypeError",
     "evalue": "'str' object does not support item assignment",
     "output_type": "error",
     "traceback": [
      "\u001b[1;31m---------------------------------------------------------------------------\u001b[0m",
      "\u001b[1;31mTypeError\u001b[0m                                 Traceback (most recent call last)",
      "Input \u001b[1;32mIn [5]\u001b[0m, in \u001b[0;36m<cell line: 2>\u001b[1;34m()\u001b[0m\n\u001b[0;32m      1\u001b[0m y \u001b[38;5;241m=\u001b[39m \u001b[38;5;124m'\u001b[39m\u001b[38;5;124mismail\u001b[39m\u001b[38;5;124m'\u001b[39m\n\u001b[1;32m----> 2\u001b[0m y[\u001b[38;5;241m3\u001b[39m] \u001b[38;5;241m=\u001b[39m \u001b[38;5;124m'\u001b[39m\u001b[38;5;124mz\u001b[39m\u001b[38;5;124m'\u001b[39m\n",
      "\u001b[1;31mTypeError\u001b[0m: 'str' object does not support item assignment"
     ]
    }
   ],
   "source": [
    "y = 'ismail'\n",
    "y[3] = 'z'"
   ]
  },
  {
   "cell_type": "code",
   "execution_count": 7,
   "id": "0f92e41f-1ba1-4eda-9bf4-3a264490625c",
   "metadata": {},
   "outputs": [
    {
     "name": "stdout",
     "output_type": "stream",
     "text": [
      "dict['Age']: 8\n",
      "dict['School']: NKU\n"
     ]
    }
   ],
   "source": [
    "dict = {'Name': 'İsmail', 'Age' : 10, 'Class' : 'First'}\n",
    "dict['Age'] = 8\n",
    "dict['School'] = 'NKU'\n",
    "print(\"dict['Age']:\", dict['Age'])\n",
    "print(\"dict['School']:\", dict['School'])"
   ]
  },
  {
   "cell_type": "code",
   "execution_count": 8,
   "id": "81e7b483-017c-4846-aff6-17d9d9d6f520",
   "metadata": {},
   "outputs": [
    {
     "name": "stdout",
     "output_type": "stream",
     "text": [
      "dict['Name']: Cansu\n"
     ]
    }
   ],
   "source": [
    "dict = {'Name': 'İsmail', 'Age' : 10, 'Name' : 'Cansu'}\n",
    "print(\"dict['Name']:\", dict['Name'])\n"
   ]
  },
  {
   "cell_type": "code",
   "execution_count": 9,
   "id": "11066315-0d66-4807-b14f-3d660d174921",
   "metadata": {},
   "outputs": [],
   "source": [
    "#dictionary silme işlemleri"
   ]
  },
  {
   "cell_type": "code",
   "execution_count": 10,
   "id": "87f28531-92b9-4a68-b7ca-6e2fcae7bc7f",
   "metadata": {},
   "outputs": [
    {
     "ename": "KeyError",
     "evalue": "'Name'",
     "output_type": "error",
     "traceback": [
      "\u001b[1;31m---------------------------------------------------------------------------\u001b[0m",
      "\u001b[1;31mKeyError\u001b[0m                                  Traceback (most recent call last)",
      "Input \u001b[1;32mIn [10]\u001b[0m, in \u001b[0;36m<cell line: 3>\u001b[1;34m()\u001b[0m\n\u001b[0;32m      1\u001b[0m \u001b[38;5;28mdict\u001b[39m \u001b[38;5;241m=\u001b[39m {\u001b[38;5;124m'\u001b[39m\u001b[38;5;124mName\u001b[39m\u001b[38;5;124m'\u001b[39m: \u001b[38;5;124m'\u001b[39m\u001b[38;5;124mİsmail\u001b[39m\u001b[38;5;124m'\u001b[39m, \u001b[38;5;124m'\u001b[39m\u001b[38;5;124mAge\u001b[39m\u001b[38;5;124m'\u001b[39m : \u001b[38;5;241m10\u001b[39m, \u001b[38;5;124m'\u001b[39m\u001b[38;5;124mClass\u001b[39m\u001b[38;5;124m'\u001b[39m : \u001b[38;5;124m'\u001b[39m\u001b[38;5;124mFirst\u001b[39m\u001b[38;5;124m'\u001b[39m}\n\u001b[0;32m      2\u001b[0m \u001b[38;5;28;01mdel\u001b[39;00m \u001b[38;5;28mdict\u001b[39m[\u001b[38;5;124m'\u001b[39m\u001b[38;5;124mName\u001b[39m\u001b[38;5;124m'\u001b[39m]\n\u001b[1;32m----> 3\u001b[0m \u001b[38;5;28mprint\u001b[39m(\u001b[38;5;124m\"\u001b[39m\u001b[38;5;124mdict[\u001b[39m\u001b[38;5;124m'\u001b[39m\u001b[38;5;124mName\u001b[39m\u001b[38;5;124m'\u001b[39m\u001b[38;5;124m]:\u001b[39m\u001b[38;5;124m\"\u001b[39m, \u001b[38;5;28;43mdict\u001b[39;49m\u001b[43m[\u001b[49m\u001b[38;5;124;43m'\u001b[39;49m\u001b[38;5;124;43mName\u001b[39;49m\u001b[38;5;124;43m'\u001b[39;49m\u001b[43m]\u001b[49m)\n",
      "\u001b[1;31mKeyError\u001b[0m: 'Name'"
     ]
    }
   ],
   "source": [
    "dict = {'Name': 'İsmail', 'Age' : 10, 'Class' : 'First'}\n",
    "del dict['Name']\n",
    "print(\"dict['Name']:\", dict['Name'])"
   ]
  },
  {
   "cell_type": "code",
   "execution_count": 11,
   "id": "5f4e5690-5272-47b3-89c7-9b1c3389dadd",
   "metadata": {},
   "outputs": [],
   "source": [
    "dict.clear() #hepsini temizler(argüman)\n",
    "del dict #dictionary yi siler"
   ]
  },
  {
   "cell_type": "code",
   "execution_count": 12,
   "id": "25d55983-529d-4367-85a6-534ddf366f29",
   "metadata": {},
   "outputs": [
    {
     "name": "stdout",
     "output_type": "stream",
     "text": [
      "555-1231211\n"
     ]
    }
   ],
   "source": [
    "phonebook ={'Cansu' : '555-1231211'}\n",
    "value = phonebook.get('Cansu')\n",
    "print(value)"
   ]
  },
  {
   "cell_type": "code",
   "execution_count": 13,
   "id": "b5ece05a-7e44-4a7c-a650-b351b430903a",
   "metadata": {},
   "outputs": [
    {
     "name": "stdout",
     "output_type": "stream",
     "text": [
      "Cansu 555-1231211\n",
      "İsmail 555-4567898\n"
     ]
    }
   ],
   "source": [
    "phonebook ={'Cansu' : '555-1231211','İsmail' : '555-4567898'}\n",
    "for key, value in phonebook.items():\n",
    "    print(key, value)\n"
   ]
  },
  {
   "cell_type": "code",
   "execution_count": null,
   "id": "d8695316-2744-4920-b910-8700243cf8bb",
   "metadata": {},
   "outputs": [],
   "source": []
  }
 ],
 "metadata": {
  "kernelspec": {
   "display_name": "Python 3 (ipykernel)",
   "language": "python",
   "name": "python3"
  },
  "language_info": {
   "codemirror_mode": {
    "name": "ipython",
    "version": 3
   },
   "file_extension": ".py",
   "mimetype": "text/x-python",
   "name": "python",
   "nbconvert_exporter": "python",
   "pygments_lexer": "ipython3",
   "version": "3.9.12"
  }
 },
 "nbformat": 4,
 "nbformat_minor": 5
}
